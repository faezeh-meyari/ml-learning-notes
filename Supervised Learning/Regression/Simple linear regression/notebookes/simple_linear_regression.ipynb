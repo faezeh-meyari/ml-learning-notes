{
 "cells": [
  {
   "cell_type": "code",
   "id": "initial_id",
   "metadata": {
    "collapsed": true
   },
   "source": [
    "import pandas as pd\n",
    "import matplotlib.pyplot as plt\n",
    "import seaborn as sns\n",
    "from sklearn.linear_model import LinearRegression\n",
    "from sklearn.model_selection import train_test_split\n",
    "from sklearn.metrics import mean_squared_error, r2_score"
   ],
   "outputs": [],
   "execution_count": null
  },
  {
   "cell_type": "code",
   "id": "bb3db42e136a1886",
   "metadata": {},
   "source": [
    "#CSV file directory\n",
    "df = pd.read_csv('../data/SOCR-HeightWeight.csv')\n",
    "\n",
    "#Indicating table\n",
    "df.head()\n"
   ],
   "outputs": [],
   "execution_count": null
  },
  {
   "cell_type": "code",
   "id": "93fc67153789687c",
   "metadata": {},
   "source": [
    "#Data dimensions\n",
    "df.shape"
   ],
   "outputs": [],
   "execution_count": null
  },
  {
   "cell_type": "code",
   "id": "d321bde525952d03",
   "metadata": {},
   "source": [
    "#Checking the data type\n",
    "df.info()"
   ],
   "outputs": [],
   "execution_count": null
  },
  {
   "cell_type": "code",
   "id": "2a2cadbedde277cf",
   "metadata": {},
   "source": [
    "#Descriptive statistics\n",
    "df.describe()"
   ],
   "outputs": [],
   "execution_count": null
  },
  {
   "cell_type": "code",
   "id": "2a6ee023150300cf",
   "metadata": {},
   "source": [
    "#Checking for missing values\n",
    "df.isnull().sum()"
   ],
   "outputs": [],
   "execution_count": null
  },
  {
   "cell_type": "code",
   "id": "47fa51c9c5367fc",
   "metadata": {},
   "source": [
    "#Draw the initial diagram (to see the relationship\n",
    "plt.figure(figsize=(8,5))\n",
    "sns.scatterplot(x='Height(Inches)', y='Weight(Pounds)', data=df)\n",
    "plt.title('Height vs Weight')\n",
    "plt.xlabel('Height (inches)')\n",
    "plt.ylabel('Weight (pounds)')\n",
    "plt.show()"
   ],
   "outputs": [],
   "execution_count": null
  },
  {
   "cell_type": "code",
   "id": "50b33282",
   "metadata": {},
   "source": [
    "# Definition of X and y\n",
    "X = df[['Height(Inches)']]\n",
    "y = df['Weight(Pounds)']\n",
    "\n",
    "#train and test\n",
    "X_train, X_test, y_train, y_test = train_test_split(X, y, test_size=0.2, random_state=42)\n",
    "\n",
    "# Model making\n",
    "model = LinearRegression()\n",
    "\n",
    "# Model training\n",
    "model.fit(X_train, y_train)"
   ],
   "outputs": [],
   "execution_count": null
  },
  {
   "cell_type": "code",
   "id": "ad4c40c84f4a8b5e",
   "metadata": {},
   "source": [
    "#Prediction\n",
    "y_pred = model.predict(X_test)\n",
    "\n",
    "#Assessing\n",
    "mse = mean_squared_error(y_test, y_pred)\n",
    "r2 = r2_score(y_test, y_pred)\n",
    "\n",
    "print(\"Mean Squared Error:\", mse)\n",
    "print(\"R² Score:\", r2)"
   ],
   "outputs": [],
   "execution_count": null
  },
  {
   "cell_type": "code",
   "id": "68134f4c7666a8b4",
   "metadata": {},
   "source": [
    "#Drawing a regression line\n",
    "plt.figure(figsize=(8,5))\n",
    "sns.scatterplot(x=X_test['Height(Inches)'], y=y_test, label='Actual')\n",
    "sns.lineplot(x=X_test['Height(Inches)'], y=y_pred, color='red', label='Predicted')\n",
    "plt.title('Linear Regression: Height vs Weight')\n",
    "plt.xlabel('Height(Inches)')\n",
    "plt.ylabel('Weight(Pounds)')\n",
    "plt.legend()\n",
    "plt.show()"
   ],
   "outputs": [],
   "execution_count": null
  }
 ],
 "metadata": {
  "kernelspec": {
   "display_name": ".venv",
   "language": "python",
   "name": "python3"
  },
  "language_info": {
   "codemirror_mode": {
    "name": "ipython",
    "version": 3
   },
   "file_extension": ".py",
   "mimetype": "text/x-python",
   "name": "python",
   "nbconvert_exporter": "python",
   "pygments_lexer": "ipython3",
   "version": "3.13.2"
  }
 },
 "nbformat": 4,
 "nbformat_minor": 5
}
